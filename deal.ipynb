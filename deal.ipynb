{
 "cells": [
  {
   "cell_type": "code",
   "execution_count": null,
   "metadata": {},
   "outputs": [],
   "source": [
    "import pickle\n",
    "\n",
    "def load_file(filename):\n",
    "    with open(filename, 'rb') as fo:\n",
    "        data = pickle.load(fo, encoding='latin1')\n",
    "    return data"
   ]
  },
  {
   "cell_type": "code",
   "execution_count": 3,
   "metadata": {},
   "outputs": [
    {
     "name": "stdout",
     "output_type": "stream",
     "text": [
      "dict_keys(['batch_label', 'labels', 'data', 'filenames'])\n"
     ]
    }
   ],
   "source": [
    "data = load_file('cifar-10-batches-py/test_batch')\n",
    "print(data.keys())"
   ]
  },
  {
   "cell_type": "code",
   "execution_count": 10,
   "metadata": {},
   "outputs": [
    {
     "name": "stdout",
     "output_type": "stream",
     "text": [
      "testing batch 1 of 1\n",
      "10000\n",
      "30720000\n",
      "10000\n",
      "domestic_cat_s_000907.png\n"
     ]
    }
   ],
   "source": [
    "print(data['batch_label'])\n",
    "# labels:对应的值是一个长度为10000的列表，每个数字取值范围 0~9，代表当前图片所属类别\n",
    "print(len(data['labels']))\n",
    "# data:10000 * 3072 的二维数组，每一行代表一张图片的像素值。（32*32*3=3072）\n",
    "print(data['data'].size)\n",
    "# filenames:长度为10000的列表，里面每一项是代表图片文件名的字符串。\n",
    "print(len(data['filenames']))\n",
    "print(data['filenames'][0])"
   ]
  },
  {
   "cell_type": "code",
   "execution_count": null,
   "metadata": {},
   "outputs": [],
   "source": []
  }
 ],
 "metadata": {
  "kernelspec": {
   "display_name": "xhsdata",
   "language": "python",
   "name": "python3"
  },
  "language_info": {
   "codemirror_mode": {
    "name": "ipython",
    "version": 3
   },
   "file_extension": ".py",
   "mimetype": "text/x-python",
   "name": "python",
   "nbconvert_exporter": "python",
   "pygments_lexer": "ipython3",
   "version": "3.10.15"
  }
 },
 "nbformat": 4,
 "nbformat_minor": 2
}
